{
 "cells": [
  {
   "cell_type": "markdown",
   "metadata": {},
   "source": [
    "# Multivariable Linear Regression by Hand\n",
    "### Goal: understand the mathematical underpinnings of linear regression by writing the algorithm by hand\n",
    "### Acceptance Criteria: Comparable results to sklearn's off the shelf linear regression results"
   ]
  },
  {
   "cell_type": "code",
   "execution_count": 1,
   "metadata": {},
   "outputs": [],
   "source": [
    "from matplotlib import pyplot as plt\n",
    "import numpy as np\n",
    "from sklearn.datasets import load_diabetes\n",
    "\n",
    "from ds_utils import normalize_features, train_test_split"
   ]
  },
  {
   "cell_type": "code",
   "execution_count": 2,
   "metadata": {},
   "outputs": [],
   "source": [
    "class LinearRegression:\n",
    "    \"\"\"Class to conduct linear regression.\"\"\"\n",
    "    def __init__(self, X, y):\n",
    "        \"\"\"Initialize the class.\"\"\"\n",
    "        self.X = normalize_features(X)\n",
    "        self.ones = np.ones((len(self.X), 1))\n",
    "        self.X_b = np.concatenate((self.ones, self.X), axis=1)\n",
    "        \n",
    "        self.costs = []\n",
    "        self.thetas = []\n",
    "        self.y = y\n",
    "    \n",
    "    @staticmethod\n",
    "    def predict(X, theta):\n",
    "        \"\"\"Take the dot product to calculate hypothesis.\"\"\"\n",
    "        return np.dot(X, theta)\n",
    "    \n",
    "    def step(self, X, y, theta, alpha=0.01):\n",
    "        \"\"\"Compute the cost and update thetas based on gradient calculations.\"\"\"\n",
    "\n",
    "        m = X.shape[0]\n",
    "        h = self.predict(X, theta)\n",
    "\n",
    "        cost = ((h - y)**2).sum() * (1 / (2 * m))\n",
    "\n",
    "        # gradient of bias term\n",
    "        # partial derivative of cost function wrt theta[0]\n",
    "        grad_b = (h - y).sum() / m\n",
    "\n",
    "        # gradient vector\n",
    "        # partial derivative vector of the cost function wrt theta[1:]\n",
    "        grad_m = (((h - y) * X.T).sum(axis=1) / m)[1:]\n",
    "        grad_final = np.concatenate(([grad_b], grad_m))\n",
    "\n",
    "        # update theta\n",
    "        theta = theta - (grad_final * alpha)\n",
    "\n",
    "        return cost, theta\n",
    "    \n",
    "    def fit(self, n_iter=1000):\n",
    "        \"\"\"Optimize thetas.\"\"\"\n",
    "        theta = np.zeros(self.trX_b.shape[1])\n",
    "        for _ in range(n_iter):\n",
    "            cost, theta = self.step(self.trX_b, self.tr_y, theta)\n",
    "            self.costs.append(cost)\n",
    "            self.thetas.append(theta)\n",
    "    \n",
    "    def build(self):\n",
    "        \"\"\"Build the model given the data.\"\"\"\n",
    "        self.trX_b, self.teX_b, self.tr_y, self.te_y = train_test_split(self.X_b, y)\n",
    "        self.fit()\n",
    "        self.coef = self.thetas[-1]\n",
    "        \n",
    "    def score(self):\n",
    "        \"\"\"Calculate score.\"\"\"\n",
    "        self.h = self.predict(self.teX_b, self.coef)\n",
    "        self.score_coef = 1 - ( ((self.te_y - self.h) ** 2).sum() / ((self.te_y - self.te_y.mean()) ** 2).sum() )"
   ]
  },
  {
   "cell_type": "markdown",
   "metadata": {},
   "source": [
    "Ideally, we'd add K-Fold Cross Validation to ensure we have a more complete understanding of how well this data fits, but the focus on this exercise is to understand the math behind Linear Regression"
   ]
  },
  {
   "cell_type": "code",
   "execution_count": 3,
   "metadata": {},
   "outputs": [],
   "source": [
    "X, y = load_diabetes(return_X_y=True)\n",
    "model = LinearRegression(X, y)\n",
    "model.build()"
   ]
  },
  {
   "cell_type": "markdown",
   "metadata": {},
   "source": [
    "Plot the cost"
   ]
  },
  {
   "cell_type": "code",
   "execution_count": 4,
   "metadata": {},
   "outputs": [
    {
     "data": {
      "image/png": "[encoded data removed]",
      "text/plain": [
       "<Figure size 432x288 with 1 Axes>"
      ]
     },
     "metadata": {
      "needs_background": "light"
     },
     "output_type": "display_data"
    }
   ],
   "source": [
    "plt.plot(model.costs[:500])\n",
    "plt.show()"
   ]
  },
  {
   "cell_type": "code",
   "execution_count": 5,
   "metadata": {},
   "outputs": [
    {
     "name": "stdout",
     "output_type": "stream",
     "text": [
      "Thetas: [151.0436969   -2.56476472 -10.30826449  26.65953041  15.02565053\n",
      "  -3.8644367   -2.79242211 -10.17176869   2.04142009  21.91757542\n",
      "   3.34600477]\n",
      "R^2: 0.5238237831545267\n"
     ]
    }
   ],
   "source": [
    "print(f'Thetas: {model.coef}')\n",
    "model.score()\n",
    "print(f'R^2: {model.score_coef}')"
   ]
  },
  {
   "cell_type": "code",
   "execution_count": 6,
   "metadata": {},
   "outputs": [
    {
     "name": "stdout",
     "output_type": "stream",
     "text": [
      "Thetas: [150.98838552081745, 0.0, -2.9215914125383198, -10.550120337300672, 26.215519243277328, 15.281082097087022, -36.118090421133026, 23.878256502066634, 3.0023000778135995, 4.272782507382381, 34.35027808404466, 3.074303934253169]\n",
      "R^2: 0.5265528604780357\n"
     ]
    }
   ],
   "source": [
    "from sklearn.linear_model import LinearRegression as skLinearRegression\n",
    "\n",
    "X, y = load_diabetes(return_X_y=True)\n",
    "\n",
    "# prep the data\n",
    "X = normalize_features(X)\n",
    "ones = np.ones((len(X), 1))\n",
    "# add bias vector\n",
    "X_b = np.concatenate((ones, X), axis=1)\n",
    "\n",
    "trX, teX, tr_y, te_y = train_test_split(X_b, y)\n",
    "\n",
    "sk_model = skLinearRegression(fit_intercept=True, normalize=True)\n",
    "sk_model.fit(trX, tr_y)\n",
    "h_final = sk_model.predict(teX)\n",
    "\n",
    "print('Thetas: {}'.format([sk_model.intercept_] + list(sk_model.coef_)))\n",
    "print('R^2: {}'.format(sk_model.score(teX, te_y)))"
   ]
  },
  {
   "cell_type": "markdown",
   "metadata": {},
   "source": [
    "Using `skLinearRegression` as a benchmark, it seems that my custom `LinearRegression` class does a reasonable job at approximating a suitable model given the data. The R^2 scores, `0.524` and `0.527`, are close and coefficients (thetas) are comparable. "
   ]
  },
  {
   "cell_type": "markdown",
   "metadata": {},
   "source": [
    "# References\n",
    "Math of gradient descent\n",
    "- https://www.coursera.org/learn/machine-learning/supplement/aEN5G/gradient-descent-for-multiple-variables\n",
    "- https://mccormickml.com/2014/03/04/gradient-descent-derivation/"
   ]
  }
 ],
 "metadata": {
  "kernelspec": {
   "display_name": "Python 3",
   "language": "python",
   "name": "python3"
  },
  "language_info": {
   "codemirror_mode": {
    "name": "ipython",
    "version": 3
   },
   "file_extension": ".py",
   "mimetype": "text/x-python",
   "name": "python",
   "nbconvert_exporter": "python",
   "pygments_lexer": "ipython3",
   "version": "3.7.4"
  }
 },
 "nbformat": 4,
 "nbformat_minor": 4
}
